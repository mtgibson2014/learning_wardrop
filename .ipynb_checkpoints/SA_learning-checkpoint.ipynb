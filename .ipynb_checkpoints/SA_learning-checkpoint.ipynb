{
 "cells": [
  {
   "cell_type": "code",
   "execution_count": 1,
   "metadata": {},
   "outputs": [
    {
     "data": {
      "text/plain": [
       "\"\\nExample of gym code ---------------------\\n\\nenv = gym.make('CartPole-v0')\\nenv.reset()\\nfor _ in range(1000):\\n    env.render()\\n    env.step(env.action_space.sample()) # take a random action\\nenv.close()\\n\\n\""
      ]
     },
     "execution_count": 1,
     "metadata": {},
     "output_type": "execute_result"
    }
   ],
   "source": [
    "from gym import *\n",
    "\n",
    "\"\"\"\n",
    "Example of gym code ---------------------\n",
    "\n",
    "env = gym.make('CartPole-v0')\n",
    "env.reset()\n",
    "for _ in range(1000):\n",
    "    env.render()\n",
    "    env.step(env.action_space.sample()) # take a random action\n",
    "env.close()\n",
    "\n",
    "\"\"\""
   ]
  },
  {
   "cell_type": "code",
   "execution_count": 2,
   "metadata": {},
   "outputs": [
    {
     "ename": "SyntaxError",
     "evalue": "invalid syntax (<ipython-input-2-1d80b39e8b78>, line 5)",
     "output_type": "error",
     "traceback": [
      "\u001b[0;36m  File \u001b[0;32m\"<ipython-input-2-1d80b39e8b78>\"\u001b[0;36m, line \u001b[0;32m5\u001b[0m\n\u001b[0;31m    action_space =\u001b[0m\n\u001b[0m                   ^\u001b[0m\n\u001b[0;31mSyntaxError\u001b[0m\u001b[0;31m:\u001b[0m invalid syntax\n"
     ]
    }
   ],
   "source": [
    "class BraessEnv(Env):\n",
    "    \"\"\"Traffic Environment that uses the Braess's network. \n",
    "       See https://github.com/openai/gym/blob/master/gym/core.py for more details.\n",
    "    \"\"\"\n",
    "    action_space = \n",
    "    observation_space = \n",
    "    reward_range = \n",
    "    \n",
    "    def __init__(self):\n",
    "        return\n",
    "\n",
    "    def step(self, action):\n",
    "        \"\"\"Run one timestep of the environment's dynamics. \"\"\"\n",
    "        return observation, reward, done, info\n",
    "    \n",
    "    def reset(self):\n",
    "        \"\"\"Resets the state of the environment and returns an initial observation.\"\"\"\n",
    "        return init_obs\n",
    "    \n",
    "    def render(self):\n",
    "        return\n",
    "    \n",
    "    def close(self):\n",
    "        return"
   ]
  },
  {
   "cell_type": "code",
   "execution_count": 4,
   "metadata": {},
   "outputs": [],
   "source": [
    "class BraessNetwork(object):\n",
    "    \"\"\"Stores the cost for all links. Handles calculating the cost of a path given action\n",
    "       of every car.\n",
    "    \"\"\"\n",
    "    def __init__(self):\n",
    "        self.__links = {\n",
    "            \"AB\": lambda f: 1 + (f/100),\n",
    "            \"AC\": lambda _: 2,\n",
    "            \"BD\": lambda _: 2,\n",
    "            \"CD\": lambda f: 1 + (f/100),\n",
    "            \"BC\": lambda _: 0.25\n",
    "        } # Dictionary of links and their congestion functions\n",
    "        self.__paths = {\n",
    "            \"ABD\": (\"AB\", \"BD\"),\n",
    "            \"ACD\": (\"AC\", \"CD\"),\n",
    "            \"ABCD\": (\"AB\", \"BC\", \"CD\")\n",
    "        } # Dictionaries of paths to links\n",
    "        return \n",
    "    \n",
    "    def paths(self):\n",
    "        \"\"\"Gives a list of all possible paths in the network to the environment. \n",
    "           The environment could then assign an action number to each path. \n",
    "        \"\"\"\n",
    "        return (\"ABD\", \"ACD\", \"ABCD\")\n",
    "    \n",
    "    def calculate_ttime(self, flows):\n",
    "        \"\"\"Given a dictionary of paths and flows, this function returns a dictionary of \n",
    "           paths and travel time (secs), a.k.a ttime.\n",
    "           \n",
    "           Returns: \n",
    "               travel_times (dictionary): A dictionary of paths to their travel times\n",
    "        \"\"\"\n",
    "        congestion = {}\n",
    "        for path in flows:\n",
    "            links = self.__paths[path]\n",
    "            for link in links:\n",
    "                if link not in congestion:\n",
    "                    congestion[link] = 0\n",
    "                congestion[link] += flows[path]\n",
    "        \n",
    "        t_time = {}\n",
    "        for path in flows:\n",
    "            total_time = 0\n",
    "            # Calculate travel time of path by adding the congestion time of every \n",
    "            # link in that path\n",
    "            links = self.__paths[path]\n",
    "            for link in links:\n",
    "                t_time_func = self.__links[link]\n",
    "                total_time += t_time_func(congestion[link])\n",
    "            t_time[path] = total_time\n",
    "        \n",
    "        return t_time"
   ]
  },
  {
   "cell_type": "code",
   "execution_count": 5,
   "metadata": {},
   "outputs": [],
   "source": [
    "class SimpleAgent(Env):\n",
    "    \"\"\"Agent that chooses some random action to do.\"\"\"\n",
    "    def __init__(self, action_space):\n",
    "        self.__action_space = action_space\n",
    "        return\n",
    "    \n",
    "    def take_first_action(self, obs):\n",
    "        return self.__action_space.sample()\n",
    "    \n",
    "    def take_action(self, new_obs, old_reward):\n",
    "        return self.__action_space.sample()"
   ]
  },
  {
   "cell_type": "code",
   "execution_count": 6,
   "metadata": {},
   "outputs": [],
   "source": [
    "num_iter = 100    # Should change this depending on how many times you want to run the routing game\n",
    "\n",
    "def learn():\n",
    "    \"\"\"Executes our learning framework.\"\"\" \n",
    "    env = BraessEnv()\n",
    "    agent = SimpleAgent(env.action_space)\n",
    "    obs = env.reset()\n",
    "    for i in range(num_iter):\n",
    "        if i == 0:\n",
    "            action = agent.take_first_action(obs)\n",
    "        else:\n",
    "            action = agent.take_action(obs, rw)\n",
    "        obs, rw, _, _ = env.step(action)\n",
    "    return"
   ]
  },
  {
   "cell_type": "code",
   "execution_count": 8,
   "metadata": {},
   "outputs": [
    {
     "name": "stdout",
     "output_type": "stream",
     "text": [
      "{'ABD': 3.75, 'ACD': 3.75, 'ABCD': 3.75}\n",
      "{'ABD': 3.5, 'ACD': 3.5, 'ABCD': 3.25}\n"
     ]
    }
   ],
   "source": [
    "# Tests\n",
    "network = BraessNetwork()\n",
    "\n",
    "# Test 1 for calculate ttime\n",
    "#\n",
    "#                  B\n",
    "#                / | \\                   \n",
    "#             /    |    \\\n",
    "#          A       |       D\n",
    "#             \\    |    /\n",
    "#                \\ | /\n",
    "#                  C\n",
    "#\n",
    "# Out of 100 cars, we will do: \n",
    "#     ABD = 25; \n",
    "#     ACD = 25; \n",
    "#     ABCD = 50 \n",
    "# \n",
    "# The travel time on each path should result as:\n",
    "#     ABD = 3.75 (units)\n",
    "#     ACD = 3.75 (units)\n",
    "#     ABCD = 3.75 (units)\n",
    "#\n",
    "flows = {\n",
    "    \"ABD\": 25,\n",
    "    \"ACD\": 25,\n",
    "    \"ABCD\": 50\n",
    "}\n",
    "times = network.calculate_ttime(flows)\n",
    "print(times)\n",
    "\n",
    "\n",
    "# Test 2 for calculate ttime\n",
    "# Out of 100 cars, we will do: \n",
    "#     ABD = 50; \n",
    "#     ACD = 50; \n",
    "#     ABCD = 0 \n",
    "# \n",
    "# The travel time on each path should result as:\n",
    "#     ABD = 3.5 (units)\n",
    "#     ACD = 3.5 (units)\n",
    "#     ABCD = 3.25 (units)  - Even though no one's using this path\n",
    "flows = {\n",
    "    \"ABD\": 50,\n",
    "    \"ACD\": 50,\n",
    "    \"ABCD\": 0\n",
    "}\n",
    "times = network.calculate_ttime(flows)\n",
    "print(times)"
   ]
  },
  {
   "cell_type": "code",
   "execution_count": null,
   "metadata": {},
   "outputs": [],
   "source": []
  }
 ],
 "metadata": {
  "kernelspec": {
   "display_name": "Python 3",
   "language": "python",
   "name": "python3"
  },
  "language_info": {
   "codemirror_mode": {
    "name": "ipython",
    "version": 3
   },
   "file_extension": ".py",
   "mimetype": "text/x-python",
   "name": "python",
   "nbconvert_exporter": "python",
   "pygments_lexer": "ipython3",
   "version": "3.6.5"
  }
 },
 "nbformat": 4,
 "nbformat_minor": 2
}
